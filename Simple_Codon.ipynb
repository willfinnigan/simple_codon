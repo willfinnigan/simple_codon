{
  "nbformat": 4,
  "nbformat_minor": 0,
  "metadata": {
    "colab": {
      "name": "Simple Codon.ipynb",
      "version": "0.3.2",
      "provenance": [],
      "include_colab_link": true
    },
    "kernelspec": {
      "name": "python3",
      "display_name": "Python 3"
    }
  },
  "cells": [
    {
      "cell_type": "markdown",
      "metadata": {
        "id": "view-in-github",
        "colab_type": "text"
      },
      "source": [
        "<a href=\"https://colab.research.google.com/github/willfinnigan/simple_codon/blob/master/Simple_Codon.ipynb\" target=\"_parent\"><img src=\"https://colab.research.google.com/assets/colab-badge.svg\" alt=\"Open In Colab\"/></a>"
      ]
    },
    {
      "cell_type": "code",
      "metadata": {
        "id": "HxuwcoIR2hHN",
        "colab_type": "code",
        "colab": {
          "base_uri": "https://localhost:8080/",
          "height": 34
        },
        "outputId": "d11c609a-33e5-46e1-faac-2ffdd1e8e540"
      },
      "source": [
        "!pip install lea==2.0.0"
      ],
      "execution_count": 1,
      "outputs": [
        {
          "output_type": "stream",
          "text": [
            "Requirement already satisfied: lea==2.0.0 in /usr/local/lib/python3.6/dist-packages (2.0.0)\n"
          ],
          "name": "stdout"
        }
      ]
    },
    {
      "cell_type": "code",
      "metadata": {
        "id": "zSmv2aTa2iK_",
        "colab_type": "code",
        "colab": {}
      },
      "source": [
        "# the lea library makes it easy to make a weighted random choice from a dictionary\n",
        "import lea\n",
        "\n",
        "def make_new_seq(protein_seq, codon_table, low_cuttoff):\n",
        "    \"\"\"\n",
        "    This function takes a protein_sequence in the form MGACREDATY...,\n",
        "    a codon table in the form {\"N\": {\"AAT\": 27, \"AAC\": 973}, \"D\": {\"GAT\": 48, \"GAC\": 952},...}\n",
        "    and a low_cuttoff below which triplets will not be picked  (eg 100)\n",
        "\n",
        "    A dna sequence will be returned for the protein,\n",
        "    with codon bias similar to the provided codon table,\n",
        "    but avoiding any triplets with frequencies below the low cuttoff\n",
        "    \"\"\"\n",
        "\n",
        "    # make an empty variable to hold the new dna sequence\n",
        "    dna_seq = \"\"\n",
        "\n",
        "    # iterate through the protein sequence\n",
        "    for aminoacid in protein_seq:\n",
        "\n",
        "        # loop this section until a triplet which has a higher frequency than the low cuttoff is selected\n",
        "        triplet_selected = False\n",
        "        while triplet_selected == False:\n",
        "\n",
        "            # get the dict of triplets for this amino acid\n",
        "            # this will look like {\"AAT\": 27, \"AAC\": 973}\n",
        "            codon_dict = codon_table.get(aminoacid)\n",
        "\n",
        "            # make an lea dictionary from codon_dict\n",
        "            # the lea library makes it easy to do weighted random selection\n",
        "            lea_codon_dict = lea.Lea.fromValFreqsDict(codon_dict)\n",
        "\n",
        "            # select a triplet randomly, weighted by the frequency of occurance\n",
        "            triplet = lea_codon_dict.random()\n",
        "\n",
        "            # if the triplet selected has a higher frequency than the cuttoff,\n",
        "            # add the triplet to dna_seq and finish the while loop\n",
        "            if codon_dict.get(triplet) > low_cuttoff:\n",
        "                triplet_selected = True\n",
        "                dna_seq += triplet\n",
        "\n",
        "    # having iterated through the protein sequence, dna_seq is complete\n",
        "    return dna_seq\n"
      ],
      "execution_count": 0,
      "outputs": []
    },
    {
      "cell_type": "code",
      "metadata": {
        "id": "7Vo2xF1N2kZd",
        "colab_type": "code",
        "colab": {}
      },
      "source": [
        "codon_table = {  \n",
        "        \"A\": {\"GCT\": 24, \"GCG\": 227, \"GCC\": 733, \"GCA\": 17},  \n",
        "        \"R\": {\"AGA\": 10, \"CGA\": 15, \"CGT\": 19, \"AGG\": 189, \"CGC\": 340, \"CGG\": 426},  \n",
        "        \"N\": {\"AAT\": 27, \"AAC\": 973},  \n",
        "        \"D\": {\"GAT\": 48, \"GAC\": 952},  \n",
        "        \"C\": {\"TGT\": 50, \"TGC\": 950},  \n",
        "        \"*\": {\"TAA\": 195, \"TAG\": 368, \"TGA\": 438},  \n",
        "        \"Q\": {\"CAA\": 130, \"CAG\": 870},  \n",
        "        \"E\": {\"GAA\": 125, \"GAG\": 875},  \n",
        "        \"G\": {\"GGT\": 25, \"GGA\": 61, \"GGC\": 400, \"GGG\": 515},  \n",
        "        \"H\": {\"CAT\": 50, \"CAC\": 950},  \n",
        "        \"I\": {\"ATA\": 46, \"ATT\": 94, \"ATC\": 860},  \n",
        "        \"L\": {\"TTA\": 8, \"CTA\": 22, \"TTG\": 66, \"CTT\": 114, \"CTG\": 285, \"CTC\": 505},  \n",
        "        \"K\": {\"AAA\": 85, \"AAG\": 915},  \n",
        "        \"M\": {\"ATG\": 1000},  \n",
        "        \"F\": {\"TTT\": 177, \"TTC\": 823},  \n",
        "        \"P\": {\"CCA\": 23, \"CCT\": 68, \"CCG\": 176, \"CCC\": 733},  \n",
        "        \"S\": {\"TCA\": 9, \"AGT\": 11, \"TCT\": 24, \"TCG\": 110, \"AGC\": 399, \"TCC\": 446},  \n",
        "        \"T\": {\"ACA\": 11, \"ACT\": 12, \"ACG\": 250, \"ACC\": 726},  \n",
        "        \"W\": {\"TGG\": 1000},  \n",
        "        \"Y\": {\"TAT\": 43, \"TAC\": 957},  \n",
        "        \"V\": {\"GTA\": 17, \"GTT\": 31, \"GTC\": 336, \"GTG\": 615}}"
      ],
      "execution_count": 0,
      "outputs": []
    },
    {
      "cell_type": "code",
      "metadata": {
        "id": "rp9LNyKn2mUk",
        "colab_type": "code",
        "colab": {
          "base_uri": "https://localhost:8080/",
          "height": 54
        },
        "outputId": "8e186e10-ae6b-4165-8184-929a264a6b98"
      },
      "source": [
        "protein = 'MRAVVFENKERVAVKEVNAPRLQHPLDALVRVHLAGICGSDLHLYHGKIPVLPGSVLGHEFVGQVEAVGEGIQDLQPGDWVVGPFHIACGTCPYCRRHQYNLCERGGVYGYAIPINAEQENP*'\n",
        "codon_cuttoff = 100\n",
        "\n",
        "new_seq = make_new_seq(protein, codon_table, codon_cuttoff)\n",
        "print(new_seq)"
      ],
      "execution_count": 8,
      "outputs": [
        {
          "output_type": "stream",
          "text": [
            "ATGCGGGCCGTGGTGTTCGAGAACAAGGAGCGCGTGGCGGTGAAGGAAGTGAACGCCCCCCGCCTTCAACACCCGCTGGACGCCCTGGTGCGCGTCCACCTCGCGGGGATCTGCGGGTCCGACCTGCACCTCTACCACGGCAAGATCCCGGTCCTCCCCGGCTCCGTCCTCGGCCACGAATTCGTGGGCCAGGTGGAGGCGGTGGGGGAGGGCATCCAGGACCTCCAGCCCGGCGACTGGGTGGTGGGCCCCTTCCACATCGCGTGCGGCACCTGCCCCTACTGCAGGCGGCACCAGTACAACCTGTGCGAGCGCGGCGGCGTCTACGGGTACGCGATCCCCATCAACGCCGAACAGGAGAACCCCTAG\n"
          ],
          "name": "stdout"
        }
      ]
    },
    {
      "cell_type": "code",
      "metadata": {
        "id": "pkdzw_Jf2n8v",
        "colab_type": "code",
        "colab": {}
      },
      "source": [
        ""
      ],
      "execution_count": 0,
      "outputs": []
    }
  ]
}